{
 "cells": [
  {
   "cell_type": "code",
   "execution_count": 1,
   "id": "2094caf5-8026-4d41-b017-fb1de6af1e3f",
   "metadata": {},
   "outputs": [],
   "source": [
    "import pandas as pd\n",
    "import matplotlib.pyplot as plt\n",
    "import numpy as np\n",
    "import statsmodels.api as sm  \n",
    "import seaborn as sns\n",
    "sns.set()\n",
    "from sklearn.linear_model import LinearRegression"
   ]
  },
  {
   "cell_type": "code",
   "execution_count": 2,
   "id": "43245054-e94b-4b52-8d43-0e8e644ea43a",
   "metadata": {},
   "outputs": [
    {
     "name": "stderr",
     "output_type": "stream",
     "text": [
      "C:\\Users\\abasu\\AppData\\Local\\Temp\\ipykernel_12476\\1183062804.py:1: DtypeWarning: Columns (11) have mixed types. Specify dtype option on import or set low_memory=False.\n",
      "  df = pd.read_csv('ship_movement_analysis.csv')\n"
     ]
    },
    {
     "data": {
      "text/html": [
       "<div>\n",
       "<style scoped>\n",
       "    .dataframe tbody tr th:only-of-type {\n",
       "        vertical-align: middle;\n",
       "    }\n",
       "\n",
       "    .dataframe tbody tr th {\n",
       "        vertical-align: top;\n",
       "    }\n",
       "\n",
       "    .dataframe thead th {\n",
       "        text-align: right;\n",
       "    }\n",
       "</style>\n",
       "<table border=\"1\" class=\"dataframe\">\n",
       "  <thead>\n",
       "    <tr style=\"text-align: right;\">\n",
       "      <th></th>\n",
       "      <th>Unnamed: 0</th>\n",
       "      <th># Timestamp</th>\n",
       "      <th>Type of mobile</th>\n",
       "      <th>MMSI</th>\n",
       "      <th>Latitude</th>\n",
       "      <th>Longitude</th>\n",
       "      <th>Navigational status</th>\n",
       "      <th>ROT</th>\n",
       "      <th>SOG</th>\n",
       "      <th>COG</th>\n",
       "      <th>...</th>\n",
       "      <th>Prev_Longitude</th>\n",
       "      <th>Distance_Travelled</th>\n",
       "      <th>Bearing</th>\n",
       "      <th>Zone</th>\n",
       "      <th>Date</th>\n",
       "      <th>Abnormal_Speed</th>\n",
       "      <th>Abnormal_Turn</th>\n",
       "      <th>Behavior_Cluster</th>\n",
       "      <th>Time_of_Day</th>\n",
       "      <th>High_Risk</th>\n",
       "    </tr>\n",
       "  </thead>\n",
       "  <tbody>\n",
       "    <tr>\n",
       "      <th>0</th>\n",
       "      <td>34</td>\n",
       "      <td>2024-01-11 00:00:00</td>\n",
       "      <td>Class A</td>\n",
       "      <td>219000429</td>\n",
       "      <td>54.654167</td>\n",
       "      <td>11.350667</td>\n",
       "      <td>Under way using engine</td>\n",
       "      <td>0.0</td>\n",
       "      <td>0.4</td>\n",
       "      <td>33.2</td>\n",
       "      <td>...</td>\n",
       "      <td>11.350667</td>\n",
       "      <td>0.000000</td>\n",
       "      <td>0.000000</td>\n",
       "      <td>0</td>\n",
       "      <td>2024-01-11</td>\n",
       "      <td>0</td>\n",
       "      <td>0</td>\n",
       "      <td>3</td>\n",
       "      <td>Night</td>\n",
       "      <td>0</td>\n",
       "    </tr>\n",
       "    <tr>\n",
       "      <th>1</th>\n",
       "      <td>791</td>\n",
       "      <td>2024-01-11 00:00:03</td>\n",
       "      <td>Class A</td>\n",
       "      <td>219000431</td>\n",
       "      <td>54.506467</td>\n",
       "      <td>11.231333</td>\n",
       "      <td>Under way using engine</td>\n",
       "      <td>25.7</td>\n",
       "      <td>10.2</td>\n",
       "      <td>213.4</td>\n",
       "      <td>...</td>\n",
       "      <td>11.231333</td>\n",
       "      <td>0.000000</td>\n",
       "      <td>0.000000</td>\n",
       "      <td>3</td>\n",
       "      <td>2024-01-11</td>\n",
       "      <td>0</td>\n",
       "      <td>0</td>\n",
       "      <td>2</td>\n",
       "      <td>Night</td>\n",
       "      <td>0</td>\n",
       "    </tr>\n",
       "    <tr>\n",
       "      <th>2</th>\n",
       "      <td>1326</td>\n",
       "      <td>2024-01-11 00:00:07</td>\n",
       "      <td>Class A</td>\n",
       "      <td>219000431</td>\n",
       "      <td>54.506467</td>\n",
       "      <td>11.231333</td>\n",
       "      <td>Under way using engine</td>\n",
       "      <td>25.7</td>\n",
       "      <td>10.2</td>\n",
       "      <td>213.4</td>\n",
       "      <td>...</td>\n",
       "      <td>11.231333</td>\n",
       "      <td>0.000000</td>\n",
       "      <td>0.000000</td>\n",
       "      <td>3</td>\n",
       "      <td>2024-01-11</td>\n",
       "      <td>0</td>\n",
       "      <td>0</td>\n",
       "      <td>2</td>\n",
       "      <td>Night</td>\n",
       "      <td>0</td>\n",
       "    </tr>\n",
       "    <tr>\n",
       "      <th>3</th>\n",
       "      <td>1703</td>\n",
       "      <td>2024-01-11 00:00:09</td>\n",
       "      <td>Class A</td>\n",
       "      <td>211188000</td>\n",
       "      <td>54.599500</td>\n",
       "      <td>11.287417</td>\n",
       "      <td>Under way using engine</td>\n",
       "      <td>1.1</td>\n",
       "      <td>16.2</td>\n",
       "      <td>202.9</td>\n",
       "      <td>...</td>\n",
       "      <td>11.287717</td>\n",
       "      <td>0.050305</td>\n",
       "      <td>-157.375846</td>\n",
       "      <td>2</td>\n",
       "      <td>2024-01-11</td>\n",
       "      <td>0</td>\n",
       "      <td>0</td>\n",
       "      <td>2</td>\n",
       "      <td>Night</td>\n",
       "      <td>0</td>\n",
       "    </tr>\n",
       "    <tr>\n",
       "      <th>4</th>\n",
       "      <td>1705</td>\n",
       "      <td>2024-01-11 00:00:09</td>\n",
       "      <td>Class A</td>\n",
       "      <td>211188000</td>\n",
       "      <td>54.599500</td>\n",
       "      <td>11.287417</td>\n",
       "      <td>Under way using engine</td>\n",
       "      <td>1.1</td>\n",
       "      <td>16.2</td>\n",
       "      <td>202.9</td>\n",
       "      <td>...</td>\n",
       "      <td>11.287417</td>\n",
       "      <td>0.000000</td>\n",
       "      <td>0.000000</td>\n",
       "      <td>2</td>\n",
       "      <td>2024-01-11</td>\n",
       "      <td>0</td>\n",
       "      <td>0</td>\n",
       "      <td>2</td>\n",
       "      <td>Night</td>\n",
       "      <td>0</td>\n",
       "    </tr>\n",
       "  </tbody>\n",
       "</table>\n",
       "<p>5 rows × 49 columns</p>\n",
       "</div>"
      ],
      "text/plain": [
       "   Unnamed: 0          # Timestamp Type of mobile       MMSI   Latitude  \\\n",
       "0          34  2024-01-11 00:00:00        Class A  219000429  54.654167   \n",
       "1         791  2024-01-11 00:00:03        Class A  219000431  54.506467   \n",
       "2        1326  2024-01-11 00:00:07        Class A  219000431  54.506467   \n",
       "3        1703  2024-01-11 00:00:09        Class A  211188000  54.599500   \n",
       "4        1705  2024-01-11 00:00:09        Class A  211188000  54.599500   \n",
       "\n",
       "   Longitude     Navigational status   ROT   SOG    COG  ...  Prev_Longitude  \\\n",
       "0  11.350667  Under way using engine   0.0   0.4   33.2  ...       11.350667   \n",
       "1  11.231333  Under way using engine  25.7  10.2  213.4  ...       11.231333   \n",
       "2  11.231333  Under way using engine  25.7  10.2  213.4  ...       11.231333   \n",
       "3  11.287417  Under way using engine   1.1  16.2  202.9  ...       11.287717   \n",
       "4  11.287417  Under way using engine   1.1  16.2  202.9  ...       11.287417   \n",
       "\n",
       "  Distance_Travelled     Bearing Zone        Date  Abnormal_Speed  \\\n",
       "0           0.000000    0.000000    0  2024-01-11               0   \n",
       "1           0.000000    0.000000    3  2024-01-11               0   \n",
       "2           0.000000    0.000000    3  2024-01-11               0   \n",
       "3           0.050305 -157.375846    2  2024-01-11               0   \n",
       "4           0.000000    0.000000    2  2024-01-11               0   \n",
       "\n",
       "   Abnormal_Turn Behavior_Cluster  Time_of_Day High_Risk  \n",
       "0              0                3        Night         0  \n",
       "1              0                2        Night         0  \n",
       "2              0                2        Night         0  \n",
       "3              0                2        Night         0  \n",
       "4              0                2        Night         0  \n",
       "\n",
       "[5 rows x 49 columns]"
      ]
     },
     "execution_count": 2,
     "metadata": {},
     "output_type": "execute_result"
    }
   ],
   "source": [
    "df = pd.read_csv('ship_movement_analysis.csv')\n",
    "df.head()"
   ]
  },
  {
   "cell_type": "code",
   "execution_count": 3,
   "id": "20b3a37b-920c-48d6-94d9-60e81df3e54a",
   "metadata": {},
   "outputs": [
    {
     "data": {
      "text/plain": [
       "Index(['Unnamed: 0', '# Timestamp', 'Type of mobile', 'MMSI', 'Latitude',\n",
       "       'Longitude', 'Navigational status', 'ROT', 'SOG', 'COG', 'Heading',\n",
       "       'IMO', 'Callsign', 'Name', 'Ship type', 'Width', 'Length',\n",
       "       'Type of position fixing device', 'Draught', 'Destination', 'ETA',\n",
       "       'Data source type', 'A', 'B', 'C', 'D', 'Hour', 'Day_of_Week', 'Month',\n",
       "       'Acceleration', 'Change_in_Heading', 'Is_Stationary', 'Is_Turning',\n",
       "       'Time_To_ETA', 'Width_Length_Ratio', 'Draught_Length_Ratio',\n",
       "       'Is_Abnormal_Speed', 'Suspicious_Stop', 'Prev_Latitude',\n",
       "       'Prev_Longitude', 'Distance_Travelled', 'Bearing', 'Zone', 'Date',\n",
       "       'Abnormal_Speed', 'Abnormal_Turn', 'Behavior_Cluster', 'Time_of_Day',\n",
       "       'High_Risk'],\n",
       "      dtype='object')"
      ]
     },
     "execution_count": 3,
     "metadata": {},
     "output_type": "execute_result"
    }
   ],
   "source": [
    "df.columns"
   ]
  },
  {
   "cell_type": "code",
   "execution_count": 4,
   "id": "8971631d-d5b8-4918-8b50-da1ce29cfa16",
   "metadata": {},
   "outputs": [],
   "source": [
    "features = [\"SOG\", \"Acceleration\", \"COG\", \"Destination\", \n",
    "            \"Width_Length_Ratio\", \"Draught_Length_Ratio\", \"Navigational status\"]\n",
    "target = \"ETA\"\n"
   ]
  },
  {
   "cell_type": "code",
   "execution_count": 5,
   "id": "01fe6c63-1f03-4b23-9b03-baccb05d22d0",
   "metadata": {},
   "outputs": [
    {
     "name": "stdout",
     "output_type": "stream",
     "text": [
      "        SOG  Acceleration       COG  Destination  Width_Length_Ratio  \\\n",
      "0 -1.777314       0.00035 -0.998315            3            0.002641   \n",
      "1 -0.080151       0.00035  0.879434            3            0.002641   \n",
      "2 -0.080151       0.00035  0.879434            2            0.917307   \n",
      "3  0.958928       0.00035  0.770020            3            0.002641   \n",
      "4  0.958928       0.00035  0.770020            3            0.002641   \n",
      "\n",
      "   Draught_Length_Ratio  Navigational status   ETA_seconds  \n",
      "0              0.665181                    0 -6.703035e+06  \n",
      "1              0.665181                    0 -6.703035e+06  \n",
      "2              0.768530                    0 -6.703035e+06  \n",
      "3              0.665181                    0 -6.703035e+06  \n",
      "4              0.665181                    0 -6.703035e+06  \n"
     ]
    }
   ],
   "source": [
    "import pandas as pd\n",
    "import numpy as np\n",
    "from sklearn.preprocessing import StandardScaler, LabelEncoder\n",
    "\n",
    "def preprocess_data(df):\n",
    "    df[\"ETA\"] = pd.to_datetime(df[\"ETA\"], errors=\"coerce\")\n",
    "\n",
    "    df[\"ETA_seconds\"] = (df[\"ETA\"] - pd.Timestamp.now()).dt.total_seconds()\n",
    "\n",
    "    df = df.dropna(subset=[\"ETA_seconds\"])\n",
    "\n",
    "    features = [\"SOG\", \"Acceleration\", \"COG\", \"Destination\", \n",
    "                \"Width_Length_Ratio\", \"Draught_Length_Ratio\", \"Navigational status\"]\n",
    "    \n",
    "    target = \"ETA_seconds\"\n",
    "\n",
    "    for col in [\"SOG\", \"Acceleration\", \"COG\", \"Width_Length_Ratio\", \"Draught_Length_Ratio\"]:\n",
    "        if df[col].isnull().sum() > 0:\n",
    "            df[col].fillna(df[col].median(), inplace=True)\n",
    "\n",
    "    label_encoders = {}\n",
    "    for cat_col in [\"Navigational status\", \"Destination\"]:\n",
    "        if cat_col in df.columns:\n",
    "            label_encoders[cat_col] = LabelEncoder()\n",
    "            df[cat_col] = label_encoders[cat_col].fit_transform(df[cat_col])\n",
    "\n",
    "    scaler = StandardScaler()\n",
    "    df[[\"SOG\", \"Acceleration\", \"COG\", \"Width_Length_Ratio\", \"Draught_Length_Ratio\"]] = scaler.fit_transform(\n",
    "        df[[\"SOG\", \"Acceleration\", \"COG\", \"Width_Length_Ratio\", \"Draught_Length_Ratio\"]])\n",
    "\n",
    "    return df, features, target, scaler, label_encoders\n",
    "\n",
    "df, features, target, scaler, label_encoders = preprocess_data(df)\n",
    "\n",
    "print(df[features + [target]].head())\n"
   ]
  },
  {
   "cell_type": "code",
   "execution_count": 6,
   "id": "bbc5188c-a21d-4509-b10f-7758872eb148",
   "metadata": {},
   "outputs": [
    {
     "name": "stdout",
     "output_type": "stream",
     "text": [
      "R² Score: 0.9998\n",
      "Mean Absolute Error (MAE): 123.23 seconds\n",
      "Root Mean Squared Error (RMSE): 275.73 seconds\n"
     ]
    }
   ],
   "source": [
    "from sklearn.model_selection import train_test_split\n",
    "from sklearn.linear_model import LinearRegression\n",
    "from sklearn.metrics import r2_score, mean_absolute_error, mean_squared_error\n",
    "import numpy as np\n",
    "\n",
    "X_train, X_test, y_train, y_test = train_test_split(df[features], df[target], test_size=0.2, random_state=42)\n",
    "\n",
    "model = LinearRegression()\n",
    "model.fit(X_train, y_train)\n",
    "\n",
    "y_pred = model.predict(X_test)\n",
    "\n",
    "r2 = r2_score(y_test, y_pred)\n",
    "mae = mean_absolute_error(y_test, y_pred)\n",
    "rmse = np.sqrt(mean_squared_error(y_test, y_pred))\n",
    "\n",
    "print(f\"R² Score: {r2:.4f}\")  # Should be above 0.90\n",
    "print(f\"Mean Absolute Error (MAE): {mae:.2f} seconds\")\n",
    "print(f\"Root Mean Squared Error (RMSE): {rmse:.2f} seconds\")\n"
   ]
  },
  {
   "cell_type": "code",
   "execution_count": 7,
   "id": "18d7f970-0049-41e1-b201-4cd549de0458",
   "metadata": {},
   "outputs": [],
   "source": [
    "import numpy as np\n",
    "from sklearn.metrics import classification_report, confusion_matrix, f1_score\n",
    "\n",
    "def categorize_eta(actual_eta, predicted_eta):\n",
    "    diff = (predicted_eta - actual_eta) / 60  # Convert seconds to minutes\n",
    "    if diff < -30:\n",
    "        return \"Early\"\n",
    "    elif -30 <= diff <= 30:\n",
    "        return \"On Time\"\n",
    "    else:\n",
    "        return \"Delayed\"\n",
    "\n",
    "y_test_class = [categorize_eta(actual, pred) for actual, pred in zip(y_test, y_pred)]\n",
    "y_pred_class = [categorize_eta(actual, pred) for actual, pred in zip(y_test, y_pred)]\n"
   ]
  },
  {
   "cell_type": "code",
   "execution_count": 8,
   "id": "1b7d84bf-960a-4112-99e0-8ffad81db621",
   "metadata": {},
   "outputs": [
    {
     "name": "stdout",
     "output_type": "stream",
     "text": [
      "F1 Score: 1.0000\n",
      "\n",
      "Confusion Matrix:\n",
      " [[  162     0]\n",
      " [    0 70801]]\n",
      "\n",
      "Classification Report:\n",
      "               precision    recall  f1-score   support\n",
      "\n",
      "       Early       1.00      1.00      1.00       162\n",
      "     On Time       1.00      1.00      1.00     70801\n",
      "\n",
      "    accuracy                           1.00     70963\n",
      "   macro avg       1.00      1.00      1.00     70963\n",
      "weighted avg       1.00      1.00      1.00     70963\n",
      "\n"
     ]
    }
   ],
   "source": [
    "from sklearn.preprocessing import LabelEncoder\n",
    "\n",
    "label_encoder = LabelEncoder()\n",
    "y_test_encoded = label_encoder.fit_transform(y_test_class)\n",
    "y_pred_encoded = label_encoder.transform(y_pred_class)\n",
    "\n",
    "f1 = f1_score(y_test_encoded, y_pred_encoded, average=\"weighted\")\n",
    "\n",
    "conf_matrix = confusion_matrix(y_test_encoded, y_pred_encoded)\n",
    "\n",
    "class_report = classification_report(y_test_encoded, y_pred_encoded, target_names=label_encoder.classes_)\n",
    "\n",
    "print(f\"F1 Score: {f1:.4f}\")\n",
    "print(\"\\nConfusion Matrix:\\n\", conf_matrix)\n",
    "print(\"\\nClassification Report:\\n\", class_report)\n"
   ]
  },
  {
   "cell_type": "code",
   "execution_count": 9,
   "id": "516445b2-13ea-4d77-906b-e314a3c3cbcf",
   "metadata": {},
   "outputs": [
    {
     "name": "stdout",
     "output_type": "stream",
     "text": [
      "Model and preprocessing tools saved successfully using pickle!\n"
     ]
    }
   ],
   "source": [
    "import pickle\n",
    "\n",
    "with open(\"eta_prediction_model.pkl\", \"wb\") as model_fileA:\n",
    "    pickle.dump(model, model_fileA)\n",
    "\n",
    "with open(\"scaler.pkl\", \"wb\") as scaler_fileA:\n",
    "    pickle.dump(scaler, scaler_fileA)\n",
    "\n",
    "with open(\"label_encoders.pkl\", \"wb\") as encoders_fileA:\n",
    "    pickle.dump(label_encoders, encoders_fileA)\n",
    "\n",
    "print(\"Model and preprocessing tools saved successfully using pickle!\")\n"
   ]
  },
  {
   "cell_type": "code",
   "execution_count": 10,
   "id": "f9b7ffab-8ae1-48ac-9623-db158b5ddc01",
   "metadata": {},
   "outputs": [
    {
     "name": "stdout",
     "output_type": "stream",
     "text": [
      "                            OLS Regression Results                            \n",
      "==============================================================================\n",
      "Dep. Variable:            ETA_seconds   R-squared:                       1.000\n",
      "Model:                            OLS   Adj. R-squared:                  1.000\n",
      "Method:                 Least Squares   F-statistic:                 3.517e+08\n",
      "Date:                Tue, 18 Mar 2025   Prob (F-statistic):               0.00\n",
      "Time:                        13:57:15   Log-Likelihood:            -2.4880e+06\n",
      "No. Observations:              354811   AIC:                         4.976e+06\n",
      "Df Residuals:                  354804   BIC:                         4.976e+06\n",
      "Df Model:                           6                                         \n",
      "Covariance Type:            nonrobust                                         \n",
      "========================================================================================\n",
      "                           coef    std err          t      P>|t|      [0.025      0.975]\n",
      "----------------------------------------------------------------------------------------\n",
      "const                -6.677e+06      3.894  -1.71e+06      0.000   -6.68e+06   -6.68e+06\n",
      "SOG                     14.1919      0.464     30.611      0.000      13.283      15.101\n",
      "Acceleration            -1.4480      0.451     -3.211      0.001      -2.332      -0.564\n",
      "COG                      4.6773      0.463     10.092      0.000       3.769       5.586\n",
      "Width_Length_Ratio   -9176.9756      3.958  -2318.390      0.000   -9184.734   -9169.217\n",
      "Draught_Length_Ratio  5995.2370      1.903   3150.712      0.000    5991.508    5998.966\n",
      "Navigational status           0          0        nan        nan           0           0\n",
      "Destination          -1.146e+04      4.084  -2807.087      0.000   -1.15e+04   -1.15e+04\n",
      "==============================================================================\n",
      "Omnibus:                   467369.481   Durbin-Watson:                   0.512\n",
      "Prob(Omnibus):                  0.000   Jarque-Bera (JB):        174437068.745\n",
      "Skew:                           7.257   Prob(JB):                         0.00\n",
      "Kurtosis:                     110.650   Cond. No.                          inf\n",
      "==============================================================================\n",
      "\n",
      "Notes:\n",
      "[1] Standard Errors assume that the covariance matrix of the errors is correctly specified.\n",
      "[2] The smallest eigenvalue is      0. This might indicate that there are\n",
      "strong multicollinearity problems or that the design matrix is singular.\n"
     ]
    },
    {
     "name": "stderr",
     "output_type": "stream",
     "text": [
      "C:\\Users\\abasu\\anaconda3\\Lib\\site-packages\\statsmodels\\regression\\linear_model.py:1967: RuntimeWarning: divide by zero encountered in scalar divide\n",
      "  return np.sqrt(eigvals[0]/eigvals[-1])\n"
     ]
    }
   ],
   "source": [
    "import statsmodels.api as sm\n",
    "\n",
    "\n",
    "features = [\"SOG\", \"Acceleration\", \"COG\", \"Width_Length_Ratio\", \n",
    "            \"Draught_Length_Ratio\", \"Navigational status\", \"Destination\"]\n",
    "target = \"ETA_seconds\"\n",
    "\n",
    "# Drop NaN values for regression\n",
    "df_ols = df.dropna(subset=features + [target]).copy()\n",
    "\n",
    "X = df_ols[features] \n",
    "y = df_ols[target]  \n",
    "\n",
    "X = sm.add_constant(X)\n",
    "\n",
    "ols_model = sm.OLS(y, X).fit()\n",
    "\n",
    "print(ols_model.summary())\n"
   ]
  },
  {
   "cell_type": "code",
   "execution_count": 11,
   "id": "7a66fbec-51fd-46ff-9366-57d89c57353f",
   "metadata": {},
   "outputs": [
    {
     "data": {
      "text/plain": [
       "Index(['Unnamed: 0', '# Timestamp', 'Type of mobile', 'MMSI', 'Latitude',\n",
       "       'Longitude', 'Navigational status', 'ROT', 'SOG', 'COG', 'Heading',\n",
       "       'IMO', 'Callsign', 'Name', 'Ship type', 'Width', 'Length',\n",
       "       'Type of position fixing device', 'Draught', 'Destination', 'ETA',\n",
       "       'Data source type', 'A', 'B', 'C', 'D', 'Hour', 'Day_of_Week', 'Month',\n",
       "       'Acceleration', 'Change_in_Heading', 'Is_Stationary', 'Is_Turning',\n",
       "       'Time_To_ETA', 'Width_Length_Ratio', 'Draught_Length_Ratio',\n",
       "       'Is_Abnormal_Speed', 'Suspicious_Stop', 'Prev_Latitude',\n",
       "       'Prev_Longitude', 'Distance_Travelled', 'Bearing', 'Zone', 'Date',\n",
       "       'Abnormal_Speed', 'Abnormal_Turn', 'Behavior_Cluster', 'Time_of_Day',\n",
       "       'High_Risk', 'ETA_seconds'],\n",
       "      dtype='object')"
      ]
     },
     "execution_count": 11,
     "metadata": {},
     "output_type": "execute_result"
    }
   ],
   "source": [
    "df.columns"
   ]
  },
  {
   "cell_type": "code",
   "execution_count": 12,
   "id": "52354af4-4cbb-4aba-9ccd-d149846b6b6d",
   "metadata": {},
   "outputs": [],
   "source": [
    "#prediction of ship type"
   ]
  },
  {
   "cell_type": "code",
   "execution_count": 13,
   "id": "0e45f2f3-da66-41b2-98af-63b6df22c40d",
   "metadata": {},
   "outputs": [],
   "source": [
    "label_encoder_target = LabelEncoder()\n",
    "df[\"Ship type\"] = label_encoder_target.fit_transform(df[\"Ship type\"])"
   ]
  },
  {
   "cell_type": "code",
   "execution_count": 14,
   "id": "c268eb6b-bb83-40a1-b316-5dc202e41450",
   "metadata": {},
   "outputs": [],
   "source": [
    "X_train, X_test, y_train, y_test = train_test_split(df[features], df[\"Ship type\"], test_size=0.2, random_state=42)"
   ]
  },
  {
   "cell_type": "code",
   "execution_count": 15,
   "id": "c5b9e03e-35fa-4839-99ec-02fc0e6c4fe7",
   "metadata": {},
   "outputs": [],
   "source": [
    "from sklearn.ensemble import RandomForestClassifier\n",
    "\n",
    "rf_model = RandomForestClassifier(n_estimators=100, random_state=42)\n",
    "rf_model.fit(X_train, y_train)\n",
    "\n",
    "# Predict on test data\n",
    "y_pred = rf_model.predict(X_test)\n"
   ]
  },
  {
   "cell_type": "code",
   "execution_count": 16,
   "id": "14fc16d9-89dc-47de-ac13-eaf813c6675a",
   "metadata": {},
   "outputs": [
    {
     "name": "stdout",
     "output_type": "stream",
     "text": [
      "Accuracy: 1.0000\n",
      "\n",
      "Classification Report:\n",
      "               precision    recall  f1-score   support\n",
      "\n",
      "           0       1.00      1.00      1.00     70801\n",
      "           1       1.00      1.00      1.00       162\n",
      "\n",
      "    accuracy                           1.00     70963\n",
      "   macro avg       1.00      1.00      1.00     70963\n",
      "weighted avg       1.00      1.00      1.00     70963\n",
      "\n"
     ]
    }
   ],
   "source": [
    "from sklearn.metrics import accuracy_score, classification_report\n",
    "\n",
    "accuracy = accuracy_score(y_test, y_pred)\n",
    "class_report = classification_report(y_test, y_pred)\n",
    "\n",
    "print(f\"Accuracy: {accuracy:.4f}\")\n",
    "print(\"\\nClassification Report:\\n\", class_report)\n"
   ]
  },
  {
   "cell_type": "code",
   "execution_count": 17,
   "id": "77cf639a-8159-47f8-8c20-f6f36a5cb204",
   "metadata": {},
   "outputs": [
    {
     "name": "stdout",
     "output_type": "stream",
     "text": [
      "Model and encoders saved successfully!\n"
     ]
    }
   ],
   "source": [
    "import pickle\n",
    "\n",
    "with open(\"ship_type_model.pkl\", \"wb\") as model_file101:\n",
    "    pickle.dump(rf_model, model_file101)\n",
    "\n",
    "with open(\"ship_type_label_encoder.pkl\", \"wb\") as label_encoder_file101:\n",
    "    pickle.dump(label_encoder_target, label_encoder_file101)\n",
    "\n",
    "print(\"Model and encoders saved successfully!\")\n"
   ]
  },
  {
   "cell_type": "code",
   "execution_count": 18,
   "id": "315b9311-e98a-4059-aebd-da2efe8e0508",
   "metadata": {},
   "outputs": [],
   "source": [
    "#predicting Destination"
   ]
  },
  {
   "cell_type": "code",
   "execution_count": 19,
   "id": "e81cd200-5998-4106-b928-a992e2ba86aa",
   "metadata": {},
   "outputs": [],
   "source": [
    "\n",
    "features = [\"SOG\", \"Acceleration\", \"COG\", \"Width_Length_Ratio\", \n",
    "            \"Draught_Length_Ratio\", \"Navigational status\", \"Ship type\"]"
   ]
  },
  {
   "cell_type": "code",
   "execution_count": 20,
   "id": "b4158741-ed40-4544-bdc6-2eff64e76b9a",
   "metadata": {},
   "outputs": [],
   "source": [
    "df[\"Destination\"] = (df[\"Destination\"])"
   ]
  },
  {
   "cell_type": "code",
   "execution_count": 21,
   "id": "3c9a4f2b-5350-40e8-a596-be43fd384e43",
   "metadata": {},
   "outputs": [],
   "source": [
    "X_train, X_test, y_train, y_test = train_test_split(df[features], df[\"Destination\"], test_size=0.2, random_state=42)"
   ]
  },
  {
   "cell_type": "code",
   "execution_count": 22,
   "id": "823e852d-9128-4c35-be4c-49e715b39e43",
   "metadata": {},
   "outputs": [],
   "source": [
    "from sklearn.ensemble import RandomForestClassifier\n",
    "\n",
    "rf_model = RandomForestClassifier(n_estimators=100, random_state=42)\n",
    "rf_model.fit(X_train, y_train)\n",
    "\n",
    "y_pred = rf_model.predict(X_test)\n"
   ]
  },
  {
   "cell_type": "code",
   "execution_count": 23,
   "id": "dc9916d0-b908-4085-b568-2bc0fdc2adcd",
   "metadata": {},
   "outputs": [
    {
     "name": "stdout",
     "output_type": "stream",
     "text": [
      "Accuracy: 1.0000\n",
      "\n",
      "Classification Report:\n",
      "               precision    recall  f1-score   support\n",
      "\n",
      "           0       1.00      1.00      1.00     25481\n",
      "           1       1.00      1.00      1.00     23813\n",
      "           2       1.00      1.00      1.00     21507\n",
      "           3       1.00      1.00      1.00       162\n",
      "\n",
      "    accuracy                           1.00     70963\n",
      "   macro avg       1.00      1.00      1.00     70963\n",
      "weighted avg       1.00      1.00      1.00     70963\n",
      "\n"
     ]
    }
   ],
   "source": [
    "from sklearn.metrics import accuracy_score, classification_report\n",
    "\n",
    "accuracy = accuracy_score(y_test, y_pred)\n",
    "class_report = classification_report(y_test, y_pred)\n",
    "\n",
    "print(f\"Accuracy: {accuracy:.4f}\")\n",
    "print(\"\\nClassification Report:\\n\", class_report)"
   ]
  },
  {
   "cell_type": "code",
   "execution_count": 24,
   "id": "d0b1e64d-41f9-4789-ae7c-1fdcb2d5c891",
   "metadata": {},
   "outputs": [],
   "source": [
    "#Clustering"
   ]
  },
  {
   "cell_type": "code",
   "execution_count": 25,
   "id": "768c8ca8-3346-4048-9376-cb18ba4ab264",
   "metadata": {},
   "outputs": [],
   "source": [
    "clustering_features = [\"SOG\", \"ROT\", \"Acceleration\", \"Change_in_Heading\", \"Width_Length_Ratio\"]\n"
   ]
  },
  {
   "cell_type": "code",
   "execution_count": 26,
   "id": "be5dc68f-e565-4d69-bfa7-ce750fe87950",
   "metadata": {},
   "outputs": [],
   "source": [
    "df_clustering = df.dropna(subset=clustering_features).copy()\n",
    "X_clustering = df_clustering[clustering_features]  # Select only numerical features\n"
   ]
  },
  {
   "cell_type": "code",
   "execution_count": 27,
   "id": "23e55cbd-9d6e-4cd2-a456-1a7f7eab4d06",
   "metadata": {},
   "outputs": [
    {
     "data": {
      "image/png": "[encoded data removed]",
      "text/plain": [
       "<Figure size 800x500 with 1 Axes>"
      ]
     },
     "metadata": {},
     "output_type": "display_data"
    }
   ],
   "source": [
    "from sklearn.cluster import KMeans\n",
    "import matplotlib.pyplot as plt\n",
    "import seaborn as sns\n",
    "\n",
    "wcss = []\n",
    "for i in range(2, 10):\n",
    "    kmeans = KMeans(n_clusters=i, random_state=42, n_init=10)\n",
    "    kmeans.fit(X_clustering)\n",
    "    wcss.append(kmeans.inertia_)\n",
    "\n",
    "plt.figure(figsize=(8,5))\n",
    "plt.plot(range(2, 10), wcss, marker='o', linestyle='dashed', color='blue')\n",
    "plt.xlabel(\"Number of Clusters\")\n",
    "plt.ylabel(\"WCSS (Within-Cluster Sum of Squares)\")\n",
    "plt.title(\"Elbow Method for Optimal K\")\n",
    "plt.show()\n"
   ]
  },
  {
   "cell_type": "code",
   "execution_count": 28,
   "id": "8232d85e-3002-42c6-80f9-759c1075f2fc",
   "metadata": {},
   "outputs": [
    {
     "name": "stdout",
     "output_type": "stream",
     "text": [
      "Cluster\n",
      "0    297128\n",
      "4     30540\n",
      "3     26827\n",
      "1       158\n",
      "2       158\n",
      "Name: count, dtype: int64\n"
     ]
    }
   ],
   "source": [
    "kmeans = KMeans(n_clusters=5, random_state=42, n_init=10)\n",
    "df_clustering[\"Cluster\"] = kmeans.fit_predict(X_clustering)\n",
    "\n",
    "print(df_clustering[\"Cluster\"].value_counts())\n"
   ]
  },
  {
   "cell_type": "code",
   "execution_count": null,
   "id": "194d6c1e-8fe4-4e3c-b29a-f16aa0cc0910",
   "metadata": {},
   "outputs": [],
   "source": [
    "plt.figure(figsize=(10,6))\n",
    "sns.scatterplot(x=df_clustering[\"SOG\"], y=df_clustering[\"Acceleration\"], hue=df_clustering[\"Cluster\"], palette=\"viridis\")\n",
    "plt.title(\"K-Means Clustering of Ships Based on Speed & Acceleration\")\n",
    "plt.xlabel(\"Speed Over Ground (SOG)\")\n",
    "plt.ylabel(\"Acceleration\")\n",
    "plt.legend(title=\"Cluster\")\n",
    "plt.show()\n"
   ]
  },
  {
   "cell_type": "code",
   "execution_count": null,
   "id": "b9a640ba-0c21-446d-9050-b42eaa6697df",
   "metadata": {},
   "outputs": [],
   "source": []
  }
 ],
 "metadata": {
  "kernelspec": {
   "display_name": "Python [conda env:base] *",
   "language": "python",
   "name": "conda-base-py"
  },
  "language_info": {
   "codemirror_mode": {
    "name": "ipython",
    "version": 3
   },
   "file_extension": ".py",
   "mimetype": "text/x-python",
   "name": "python",
   "nbconvert_exporter": "python",
   "pygments_lexer": "ipython3",
   "version": "3.12.3"
  }
 },
 "nbformat": 4,
 "nbformat_minor": 5
}
