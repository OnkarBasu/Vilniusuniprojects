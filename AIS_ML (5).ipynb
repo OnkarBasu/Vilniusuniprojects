{
 "cells": [
  {
   "cell_type": "code",
   "execution_count": 3,
   "id": "2094caf5-8026-4d41-b017-fb1de6af1e3f",
   "metadata": {},
   "outputs": [],
   "source": [
    "import pandas as pd\n",
    "import matplotlib.pyplot as plt\n",
    "import numpy as np\n",
    "import statsmodels.api as sm  \n",
    "import seaborn as sns\n",
    "sns.set()\n",
    "from sklearn.linear_model import LinearRegression"
   ]
  },
  {
   "cell_type": "code",
   "execution_count": 4,
   "id": "43245054-e94b-4b52-8d43-0e8e644ea43a",
   "metadata": {},
   "outputs": [
    {
     "name": "stderr",
     "output_type": "stream",
     "text": [
      "C:\\Users\\abasu\\AppData\\Local\\Temp\\ipykernel_5756\\1183062804.py:1: DtypeWarning: Columns (11) have mixed types. Specify dtype option on import or set low_memory=False.\n",
      "  df = pd.read_csv('ship_movement_analysis.csv')\n"
     ]
    },
    {
     "data": {
      "text/html": [
       "<div>\n",
       "<style scoped>\n",
       "    .dataframe tbody tr th:only-of-type {\n",
       "        vertical-align: middle;\n",
       "    }\n",
       "\n",
       "    .dataframe tbody tr th {\n",
       "        vertical-align: top;\n",
       "    }\n",
       "\n",
       "    .dataframe thead th {\n",
       "        text-align: right;\n",
       "    }\n",
       "</style>\n",
       "<table border=\"1\" class=\"dataframe\">\n",
       "  <thead>\n",
       "    <tr style=\"text-align: right;\">\n",
       "      <th></th>\n",
       "      <th>Unnamed: 0</th>\n",
       "      <th># Timestamp</th>\n",
       "      <th>Type of mobile</th>\n",
       "      <th>MMSI</th>\n",
       "      <th>Latitude</th>\n",
       "      <th>Longitude</th>\n",
       "      <th>Navigational status</th>\n",
       "      <th>ROT</th>\n",
       "      <th>SOG</th>\n",
       "      <th>COG</th>\n",
       "      <th>...</th>\n",
       "      <th>Prev_Longitude</th>\n",
       "      <th>Distance_Travelled</th>\n",
       "      <th>Bearing</th>\n",
       "      <th>Zone</th>\n",
       "      <th>Date</th>\n",
       "      <th>Abnormal_Speed</th>\n",
       "      <th>Abnormal_Turn</th>\n",
       "      <th>Behavior_Cluster</th>\n",
       "      <th>Time_of_Day</th>\n",
       "      <th>High_Risk</th>\n",
       "    </tr>\n",
       "  </thead>\n",
       "  <tbody>\n",
       "    <tr>\n",
       "      <th>0</th>\n",
       "      <td>34</td>\n",
       "      <td>2024-01-11 00:00:00</td>\n",
       "      <td>Class A</td>\n",
       "      <td>219000429</td>\n",
       "      <td>54.654167</td>\n",
       "      <td>11.350667</td>\n",
       "      <td>Under way using engine</td>\n",
       "      <td>0.0</td>\n",
       "      <td>0.4</td>\n",
       "      <td>33.2</td>\n",
       "      <td>...</td>\n",
       "      <td>11.350667</td>\n",
       "      <td>0.000000</td>\n",
       "      <td>0.000000</td>\n",
       "      <td>0</td>\n",
       "      <td>2024-01-11</td>\n",
       "      <td>0</td>\n",
       "      <td>0</td>\n",
       "      <td>3</td>\n",
       "      <td>Night</td>\n",
       "      <td>0</td>\n",
       "    </tr>\n",
       "    <tr>\n",
       "      <th>1</th>\n",
       "      <td>791</td>\n",
       "      <td>2024-01-11 00:00:03</td>\n",
       "      <td>Class A</td>\n",
       "      <td>219000431</td>\n",
       "      <td>54.506467</td>\n",
       "      <td>11.231333</td>\n",
       "      <td>Under way using engine</td>\n",
       "      <td>25.7</td>\n",
       "      <td>10.2</td>\n",
       "      <td>213.4</td>\n",
       "      <td>...</td>\n",
       "      <td>11.231333</td>\n",
       "      <td>0.000000</td>\n",
       "      <td>0.000000</td>\n",
       "      <td>3</td>\n",
       "      <td>2024-01-11</td>\n",
       "      <td>0</td>\n",
       "      <td>0</td>\n",
       "      <td>2</td>\n",
       "      <td>Night</td>\n",
       "      <td>0</td>\n",
       "    </tr>\n",
       "    <tr>\n",
       "      <th>2</th>\n",
       "      <td>1326</td>\n",
       "      <td>2024-01-11 00:00:07</td>\n",
       "      <td>Class A</td>\n",
       "      <td>219000431</td>\n",
       "      <td>54.506467</td>\n",
       "      <td>11.231333</td>\n",
       "      <td>Under way using engine</td>\n",
       "      <td>25.7</td>\n",
       "      <td>10.2</td>\n",
       "      <td>213.4</td>\n",
       "      <td>...</td>\n",
       "      <td>11.231333</td>\n",
       "      <td>0.000000</td>\n",
       "      <td>0.000000</td>\n",
       "      <td>3</td>\n",
       "      <td>2024-01-11</td>\n",
       "      <td>0</td>\n",
       "      <td>0</td>\n",
       "      <td>2</td>\n",
       "      <td>Night</td>\n",
       "      <td>0</td>\n",
       "    </tr>\n",
       "    <tr>\n",
       "      <th>3</th>\n",
       "      <td>1703</td>\n",
       "      <td>2024-01-11 00:00:09</td>\n",
       "      <td>Class A</td>\n",
       "      <td>211188000</td>\n",
       "      <td>54.599500</td>\n",
       "      <td>11.287417</td>\n",
       "      <td>Under way using engine</td>\n",
       "      <td>1.1</td>\n",
       "      <td>16.2</td>\n",
       "      <td>202.9</td>\n",
       "      <td>...</td>\n",
       "      <td>11.287717</td>\n",
       "      <td>0.050305</td>\n",
       "      <td>-157.375846</td>\n",
       "      <td>2</td>\n",
       "      <td>2024-01-11</td>\n",
       "      <td>0</td>\n",
       "      <td>0</td>\n",
       "      <td>2</td>\n",
       "      <td>Night</td>\n",
       "      <td>0</td>\n",
       "    </tr>\n",
       "    <tr>\n",
       "      <th>4</th>\n",
       "      <td>1705</td>\n",
       "      <td>2024-01-11 00:00:09</td>\n",
       "      <td>Class A</td>\n",
       "      <td>211188000</td>\n",
       "      <td>54.599500</td>\n",
       "      <td>11.287417</td>\n",
       "      <td>Under way using engine</td>\n",
       "      <td>1.1</td>\n",
       "      <td>16.2</td>\n",
       "      <td>202.9</td>\n",
       "      <td>...</td>\n",
       "      <td>11.287417</td>\n",
       "      <td>0.000000</td>\n",
       "      <td>0.000000</td>\n",
       "      <td>2</td>\n",
       "      <td>2024-01-11</td>\n",
       "      <td>0</td>\n",
       "      <td>0</td>\n",
       "      <td>2</td>\n",
       "      <td>Night</td>\n",
       "      <td>0</td>\n",
       "    </tr>\n",
       "  </tbody>\n",
       "</table>\n",
       "<p>5 rows × 49 columns</p>\n",
       "</div>"
      ],
      "text/plain": [
       "   Unnamed: 0          # Timestamp Type of mobile       MMSI   Latitude  \\\n",
       "0          34  2024-01-11 00:00:00        Class A  219000429  54.654167   \n",
       "1         791  2024-01-11 00:00:03        Class A  219000431  54.506467   \n",
       "2        1326  2024-01-11 00:00:07        Class A  219000431  54.506467   \n",
       "3        1703  2024-01-11 00:00:09        Class A  211188000  54.599500   \n",
       "4        1705  2024-01-11 00:00:09        Class A  211188000  54.599500   \n",
       "\n",
       "   Longitude     Navigational status   ROT   SOG    COG  ...  Prev_Longitude  \\\n",
       "0  11.350667  Under way using engine   0.0   0.4   33.2  ...       11.350667   \n",
       "1  11.231333  Under way using engine  25.7  10.2  213.4  ...       11.231333   \n",
       "2  11.231333  Under way using engine  25.7  10.2  213.4  ...       11.231333   \n",
       "3  11.287417  Under way using engine   1.1  16.2  202.9  ...       11.287717   \n",
       "4  11.287417  Under way using engine   1.1  16.2  202.9  ...       11.287417   \n",
       "\n",
       "  Distance_Travelled     Bearing Zone        Date  Abnormal_Speed  \\\n",
       "0           0.000000    0.000000    0  2024-01-11               0   \n",
       "1           0.000000    0.000000    3  2024-01-11               0   \n",
       "2           0.000000    0.000000    3  2024-01-11               0   \n",
       "3           0.050305 -157.375846    2  2024-01-11               0   \n",
       "4           0.000000    0.000000    2  2024-01-11               0   \n",
       "\n",
       "   Abnormal_Turn Behavior_Cluster  Time_of_Day High_Risk  \n",
       "0              0                3        Night         0  \n",
       "1              0                2        Night         0  \n",
       "2              0                2        Night         0  \n",
       "3              0                2        Night         0  \n",
       "4              0                2        Night         0  \n",
       "\n",
       "[5 rows x 49 columns]"
      ]
     },
     "execution_count": 4,
     "metadata": {},
     "output_type": "execute_result"
    }
   ],
   "source": [
    "df = pd.read_csv('ship_movement_analysis.csv')\n",
    "df.head()"
   ]
  },
  {
   "cell_type": "code",
   "execution_count": 5,
   "id": "20b3a37b-920c-48d6-94d9-60e81df3e54a",
   "metadata": {},
   "outputs": [
    {
     "data": {
      "text/plain": [
       "Index(['Unnamed: 0', '# Timestamp', 'Type of mobile', 'MMSI', 'Latitude',\n",
       "       'Longitude', 'Navigational status', 'ROT', 'SOG', 'COG', 'Heading',\n",
       "       'IMO', 'Callsign', 'Name', 'Ship type', 'Width', 'Length',\n",
       "       'Type of position fixing device', 'Draught', 'Destination', 'ETA',\n",
       "       'Data source type', 'A', 'B', 'C', 'D', 'Hour', 'Day_of_Week', 'Month',\n",
       "       'Acceleration', 'Change_in_Heading', 'Is_Stationary', 'Is_Turning',\n",
       "       'Time_To_ETA', 'Width_Length_Ratio', 'Draught_Length_Ratio',\n",
       "       'Is_Abnormal_Speed', 'Suspicious_Stop', 'Prev_Latitude',\n",
       "       'Prev_Longitude', 'Distance_Travelled', 'Bearing', 'Zone', 'Date',\n",
       "       'Abnormal_Speed', 'Abnormal_Turn', 'Behavior_Cluster', 'Time_of_Day',\n",
       "       'High_Risk'],\n",
       "      dtype='object')"
      ]
     },
     "execution_count": 5,
     "metadata": {},
     "output_type": "execute_result"
    }
   ],
   "source": [
    "df.columns"
   ]
  },
  {
   "cell_type": "code",
   "execution_count": 6,
   "id": "8971631d-d5b8-4918-8b50-da1ce29cfa16",
   "metadata": {},
   "outputs": [],
   "source": [
    "features = [\"SOG\", \"Acceleration\", \"COG\", \"Destination\", \n",
    "            \"Width_Length_Ratio\", \"Draught_Length_Ratio\", \"Navigational status\"]\n",
    "target = \"ETA\"\n"
   ]
  },
  {
   "cell_type": "code",
   "execution_count": 7,
   "id": "01fe6c63-1f03-4b23-9b03-baccb05d22d0",
   "metadata": {},
   "outputs": [
    {
     "name": "stdout",
     "output_type": "stream",
     "text": [
      "        SOG  Acceleration       COG  Destination  Width_Length_Ratio  \\\n",
      "0 -1.777314       0.00035 -0.998315            3            0.002641   \n",
      "1 -0.080151       0.00035  0.879434            3            0.002641   \n",
      "2 -0.080151       0.00035  0.879434            2            0.917307   \n",
      "3  0.958928       0.00035  0.770020            3            0.002641   \n",
      "4  0.958928       0.00035  0.770020            3            0.002641   \n",
      "\n",
      "   Draught_Length_Ratio  Navigational status   ETA_seconds  \n",
      "0              0.665181                    0 -6.689761e+06  \n",
      "1              0.665181                    0 -6.689761e+06  \n",
      "2              0.768530                    0 -6.689761e+06  \n",
      "3              0.665181                    0 -6.689761e+06  \n",
      "4              0.665181                    0 -6.689761e+06  \n"
     ]
    }
   ],
   "source": [
    "import pandas as pd\n",
    "import numpy as np\n",
    "from sklearn.preprocessing import StandardScaler, LabelEncoder\n",
    "\n",
    "def preprocess_data(df):\n",
    "    df[\"ETA\"] = pd.to_datetime(df[\"ETA\"], errors=\"coerce\")\n",
    "\n",
    "    df[\"ETA_seconds\"] = (df[\"ETA\"] - pd.Timestamp.now()).dt.total_seconds()\n",
    "\n",
    "    df = df.dropna(subset=[\"ETA_seconds\"])\n",
    "\n",
    "    features = [\"SOG\", \"Acceleration\", \"COG\", \"Destination\", \n",
    "                \"Width_Length_Ratio\", \"Draught_Length_Ratio\", \"Navigational status\"]\n",
    "    \n",
    "    target = \"ETA_seconds\"\n",
    "\n",
    "    for col in [\"SOG\", \"Acceleration\", \"COG\", \"Width_Length_Ratio\", \"Draught_Length_Ratio\"]:\n",
    "        if df[col].isnull().sum() > 0:\n",
    "            df[col].fillna(df[col].median(), inplace=True)\n",
    "\n",
    "    label_encoders = {}\n",
    "    for cat_col in [\"Navigational status\", \"Destination\"]:\n",
    "        if cat_col in df.columns:\n",
    "            label_encoders[cat_col] = LabelEncoder()\n",
    "            df[cat_col] = label_encoders[cat_col].fit_transform(df[cat_col])\n",
    "\n",
    "    scaler = StandardScaler()\n",
    "    df[[\"SOG\", \"Acceleration\", \"COG\", \"Width_Length_Ratio\", \"Draught_Length_Ratio\"]] = scaler.fit_transform(\n",
    "        df[[\"SOG\", \"Acceleration\", \"COG\", \"Width_Length_Ratio\", \"Draught_Length_Ratio\"]])\n",
    "\n",
    "    return df, features, target, scaler, label_encoders\n",
    "\n",
    "df, features, target, scaler, label_encoders = preprocess_data(df)\n",
    "\n",
    "print(df[features + [target]].head())\n"
   ]
  },
  {
   "cell_type": "code",
   "execution_count": 8,
   "id": "bbc5188c-a21d-4509-b10f-7758872eb148",
   "metadata": {},
   "outputs": [
    {
     "name": "stdout",
     "output_type": "stream",
     "text": [
      "R² Score: 0.9998\n",
      "Mean Absolute Error (MAE): 123.23 seconds\n",
      "Root Mean Squared Error (RMSE): 275.73 seconds\n"
     ]
    }
   ],
   "source": [
    "from sklearn.model_selection import train_test_split\n",
    "from sklearn.linear_model import LinearRegression\n",
    "from sklearn.metrics import r2_score, mean_absolute_error, mean_squared_error\n",
    "import numpy as np\n",
    "\n",
    "X_train, X_test, y_train, y_test = train_test_split(df[features], df[target], test_size=0.2, random_state=42)\n",
    "\n",
    "model = LinearRegression()\n",
    "model.fit(X_train, y_train)\n",
    "\n",
    "y_pred = model.predict(X_test)\n",
    "\n",
    "r2 = r2_score(y_test, y_pred)\n",
    "mae = mean_absolute_error(y_test, y_pred)\n",
    "rmse = np.sqrt(mean_squared_error(y_test, y_pred))\n",
    "\n",
    "print(f\"R² Score: {r2:.4f}\")  # Should be above 0.90\n",
    "print(f\"Mean Absolute Error (MAE): {mae:.2f} seconds\")\n",
    "print(f\"Root Mean Squared Error (RMSE): {rmse:.2f} seconds\")\n"
   ]
  },
  {
   "cell_type": "code",
   "execution_count": 9,
   "id": "18d7f970-0049-41e1-b201-4cd549de0458",
   "metadata": {},
   "outputs": [],
   "source": [
    "import numpy as np\n",
    "from sklearn.metrics import classification_report, confusion_matrix, f1_score\n",
    "\n",
    "def categorize_eta(actual_eta, predicted_eta):\n",
    "    diff = (predicted_eta - actual_eta) / 60  # Convert seconds to minutes\n",
    "    if diff < -30:\n",
    "        return \"Early\"\n",
    "    elif -30 <= diff <= 30:\n",
    "        return \"On Time\"\n",
    "    else:\n",
    "        return \"Delayed\"\n",
    "\n",
    "y_test_class = [categorize_eta(actual, pred) for actual, pred in zip(y_test, y_pred)]\n",
    "y_pred_class = [categorize_eta(actual, pred) for actual, pred in zip(y_test, y_pred)]\n"
   ]
  },
  {
   "cell_type": "code",
   "execution_count": 10,
   "id": "1b7d84bf-960a-4112-99e0-8ffad81db621",
   "metadata": {},
   "outputs": [
    {
     "name": "stdout",
     "output_type": "stream",
     "text": [
      "F1 Score: 1.0000\n",
      "\n",
      "Confusion Matrix:\n",
      " [[  162     0]\n",
      " [    0 70801]]\n",
      "\n",
      "Classification Report:\n",
      "               precision    recall  f1-score   support\n",
      "\n",
      "       Early       1.00      1.00      1.00       162\n",
      "     On Time       1.00      1.00      1.00     70801\n",
      "\n",
      "    accuracy                           1.00     70963\n",
      "   macro avg       1.00      1.00      1.00     70963\n",
      "weighted avg       1.00      1.00      1.00     70963\n",
      "\n"
     ]
    }
   ],
   "source": [
    "from sklearn.preprocessing import LabelEncoder\n",
    "\n",
    "label_encoder = LabelEncoder()\n",
    "y_test_encoded = label_encoder.fit_transform(y_test_class)\n",
    "y_pred_encoded = label_encoder.transform(y_pred_class)\n",
    "\n",
    "f1 = f1_score(y_test_encoded, y_pred_encoded, average=\"weighted\")\n",
    "\n",
    "conf_matrix = confusion_matrix(y_test_encoded, y_pred_encoded)\n",
    "\n",
    "class_report = classification_report(y_test_encoded, y_pred_encoded, target_names=label_encoder.classes_)\n",
    "\n",
    "print(f\"F1 Score: {f1:.4f}\")\n",
    "print(\"\\nConfusion Matrix:\\n\", conf_matrix)\n",
    "print(\"\\nClassification Report:\\n\", class_report)\n"
   ]
  },
  {
   "cell_type": "code",
   "execution_count": 11,
   "id": "516445b2-13ea-4d77-906b-e314a3c3cbcf",
   "metadata": {},
   "outputs": [
    {
     "name": "stdout",
     "output_type": "stream",
     "text": [
      "Model and preprocessing tools saved successfully using pickle!\n"
     ]
    }
   ],
   "source": [
    "import pickle\n",
    "\n",
    "with open(\"eta_prediction_model.pkl\", \"wb\") as model_fileA:\n",
    "    pickle.dump(model, model_fileA)\n",
    "\n",
    "with open(\"scaler.pkl\", \"wb\") as scaler_fileA:\n",
    "    pickle.dump(scaler, scaler_fileA)\n",
    "\n",
    "with open(\"label_encoders.pkl\", \"wb\") as encoders_fileA:\n",
    "    pickle.dump(label_encoders, encoders_fileA)\n",
    "\n",
    "print(\"Model and preprocessing tools saved successfully using pickle!\")\n"
   ]
  },
  {
   "cell_type": "code",
   "execution_count": 24,
   "id": "7a66fbec-51fd-46ff-9366-57d89c57353f",
   "metadata": {},
   "outputs": [
    {
     "data": {
      "text/plain": [
       "Index(['Unnamed: 0', '# Timestamp', 'Type of mobile', 'MMSI', 'Latitude',\n",
       "       'Longitude', 'Navigational status', 'ROT', 'SOG', 'COG', 'Heading',\n",
       "       'IMO', 'Callsign', 'Name', 'Ship type', 'Width', 'Length',\n",
       "       'Type of position fixing device', 'Draught', 'Destination', 'ETA',\n",
       "       'Data source type', 'A', 'B', 'C', 'D', 'Hour', 'Day_of_Week', 'Month',\n",
       "       'Acceleration', 'Change_in_Heading', 'Is_Stationary', 'Is_Turning',\n",
       "       'Time_To_ETA', 'Width_Length_Ratio', 'Draught_Length_Ratio',\n",
       "       'Is_Abnormal_Speed', 'Suspicious_Stop', 'Prev_Latitude',\n",
       "       'Prev_Longitude', 'Distance_Travelled', 'Bearing', 'Zone', 'Date',\n",
       "       'Abnormal_Speed', 'Abnormal_Turn', 'Behavior_Cluster', 'Time_of_Day',\n",
       "       'High_Risk', 'ETA_seconds'],\n",
       "      dtype='object')"
      ]
     },
     "execution_count": 24,
     "metadata": {},
     "output_type": "execute_result"
    }
   ],
   "source": [
    "df.columns"
   ]
  },
  {
   "cell_type": "code",
   "execution_count": 26,
   "id": "52354af4-4cbb-4aba-9ccd-d149846b6b6d",
   "metadata": {},
   "outputs": [],
   "source": [
    "#prediction of ship type"
   ]
  },
  {
   "cell_type": "code",
   "execution_count": 32,
   "id": "0e45f2f3-da66-41b2-98af-63b6df22c40d",
   "metadata": {},
   "outputs": [],
   "source": [
    "label_encoder_target = LabelEncoder()\n",
    "df[\"Ship type\"] = label_encoder_target.fit_transform(df[\"Ship type\"])"
   ]
  },
  {
   "cell_type": "code",
   "execution_count": 34,
   "id": "c268eb6b-bb83-40a1-b316-5dc202e41450",
   "metadata": {},
   "outputs": [],
   "source": [
    "X_train, X_test, y_train, y_test = train_test_split(df[features], df[\"Ship type\"], test_size=0.2, random_state=42)"
   ]
  },
  {
   "cell_type": "code",
   "execution_count": 36,
   "id": "c5b9e03e-35fa-4839-99ec-02fc0e6c4fe7",
   "metadata": {},
   "outputs": [],
   "source": [
    "from sklearn.ensemble import RandomForestClassifier\n",
    "\n",
    "rf_model = RandomForestClassifier(n_estimators=100, random_state=42)\n",
    "rf_model.fit(X_train, y_train)\n",
    "\n",
    "# Predict on test data\n",
    "y_pred = rf_model.predict(X_test)\n"
   ]
  },
  {
   "cell_type": "code",
   "execution_count": 38,
   "id": "14fc16d9-89dc-47de-ac13-eaf813c6675a",
   "metadata": {},
   "outputs": [
    {
     "name": "stdout",
     "output_type": "stream",
     "text": [
      "Accuracy: 1.0000\n",
      "\n",
      "Classification Report:\n",
      "               precision    recall  f1-score   support\n",
      "\n",
      "           0       1.00      1.00      1.00     70801\n",
      "           1       1.00      1.00      1.00       162\n",
      "\n",
      "    accuracy                           1.00     70963\n",
      "   macro avg       1.00      1.00      1.00     70963\n",
      "weighted avg       1.00      1.00      1.00     70963\n",
      "\n"
     ]
    }
   ],
   "source": [
    "from sklearn.metrics import accuracy_score, classification_report\n",
    "\n",
    "accuracy = accuracy_score(y_test, y_pred)\n",
    "class_report = classification_report(y_test, y_pred)\n",
    "\n",
    "print(f\"Accuracy: {accuracy:.4f}\")\n",
    "print(\"\\nClassification Report:\\n\", class_report)\n"
   ]
  },
  {
   "cell_type": "code",
   "execution_count": 42,
   "id": "77cf639a-8159-47f8-8c20-f6f36a5cb204",
   "metadata": {},
   "outputs": [
    {
     "name": "stdout",
     "output_type": "stream",
     "text": [
      "Model and encoders saved successfully!\n"
     ]
    }
   ],
   "source": [
    "import pickle\n",
    "\n",
    "with open(\"ship_type_model.pkl\", \"wb\") as model_file101:\n",
    "    pickle.dump(rf_model, model_file101)\n",
    "\n",
    "with open(\"ship_type_label_encoder.pkl\", \"wb\") as label_encoder_file101:\n",
    "    pickle.dump(label_encoder_target, label_encoder_file101)\n",
    "\n",
    "print(\"Model and encoders saved successfully!\")\n"
   ]
  },
  {
   "cell_type": "code",
   "execution_count": null,
   "id": "315b9311-e98a-4059-aebd-da2efe8e0508",
   "metadata": {},
   "outputs": [],
   "source": [
    "#predicting Destination"
   ]
  },
  {
   "cell_type": "code",
   "execution_count": 52,
   "id": "e81cd200-5998-4106-b928-a992e2ba86aa",
   "metadata": {},
   "outputs": [],
   "source": [
    "\n",
    "features = [\"SOG\", \"Acceleration\", \"COG\", \"Width_Length_Ratio\", \n",
    "            \"Draught_Length_Ratio\", \"Navigational status\", \"Ship type\"]"
   ]
  },
  {
   "cell_type": "code",
   "execution_count": 54,
   "id": "b4158741-ed40-4544-bdc6-2eff64e76b9a",
   "metadata": {},
   "outputs": [],
   "source": [
    "df[\"Destination\"] = (df[\"Destination\"])"
   ]
  },
  {
   "cell_type": "code",
   "execution_count": 56,
   "id": "3c9a4f2b-5350-40e8-a596-be43fd384e43",
   "metadata": {},
   "outputs": [],
   "source": [
    "X_train, X_test, y_train, y_test = train_test_split(df[features], df[\"Destination\"], test_size=0.2, random_state=42)"
   ]
  },
  {
   "cell_type": "code",
   "execution_count": 58,
   "id": "823e852d-9128-4c35-be4c-49e715b39e43",
   "metadata": {},
   "outputs": [],
   "source": [
    "from sklearn.ensemble import RandomForestClassifier\n",
    "\n",
    "rf_model = RandomForestClassifier(n_estimators=100, random_state=42)\n",
    "rf_model.fit(X_train, y_train)\n",
    "\n",
    "y_pred = rf_model.predict(X_test)\n"
   ]
  },
  {
   "cell_type": "code",
   "execution_count": 60,
   "id": "dc9916d0-b908-4085-b568-2bc0fdc2adcd",
   "metadata": {},
   "outputs": [
    {
     "name": "stdout",
     "output_type": "stream",
     "text": [
      "Accuracy: 1.0000\n",
      "\n",
      "Classification Report:\n",
      "               precision    recall  f1-score   support\n",
      "\n",
      "           0       1.00      1.00      1.00     25481\n",
      "           1       1.00      1.00      1.00     23813\n",
      "           2       1.00      1.00      1.00     21507\n",
      "           3       1.00      1.00      1.00       162\n",
      "\n",
      "    accuracy                           1.00     70963\n",
      "   macro avg       1.00      1.00      1.00     70963\n",
      "weighted avg       1.00      1.00      1.00     70963\n",
      "\n"
     ]
    }
   ],
   "source": [
    "from sklearn.metrics import accuracy_score, classification_report\n",
    "\n",
    "accuracy = accuracy_score(y_test, y_pred)\n",
    "class_report = classification_report(y_test, y_pred)\n",
    "\n",
    "print(f\"Accuracy: {accuracy:.4f}\")\n",
    "print(\"\\nClassification Report:\\n\", class_report)"
   ]
  },
  {
   "cell_type": "code",
   "execution_count": null,
   "id": "d0b1e64d-41f9-4789-ae7c-1fdcb2d5c891",
   "metadata": {},
   "outputs": [],
   "source": []
  }
 ],
 "metadata": {
  "kernelspec": {
   "display_name": "Python [conda env:base] *",
   "language": "python",
   "name": "conda-base-py"
  },
  "language_info": {
   "codemirror_mode": {
    "name": "ipython",
    "version": 3
   },
   "file_extension": ".py",
   "mimetype": "text/x-python",
   "name": "python",
   "nbconvert_exporter": "python",
   "pygments_lexer": "ipython3",
   "version": "3.12.3"
  }
 },
 "nbformat": 4,
 "nbformat_minor": 5
}
